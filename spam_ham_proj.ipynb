{
  "nbformat": 4,
  "nbformat_minor": 0,
  "metadata": {
    "colab": {
      "provenance": []
    },
    "kernelspec": {
      "name": "python3",
      "display_name": "Python 3"
    },
    "language_info": {
      "name": "python"
    }
  },
  "cells": [
    {
      "cell_type": "code",
      "execution_count": 1,
      "metadata": {
        "id": "dvFso5OsmFBi"
      },
      "outputs": [],
      "source": [
        "#The following project is a spam mail detector which uses machine learning.\n",
        "#The machine learning algorithm predicts whether emails are spam or Ham.\n",
        "\n",
        "\"\"\" Work Flow- \n",
        "    dataset is collected which will be used as a training set\n",
        "    data preprocessing (convert text data into more machine workable numeric data)\n",
        "    train test split\n",
        "    logical regression model\n",
        "    \n",
        "    \n",
        "    once the logical regression model is made \n",
        "    input will be a new mail -> Trained Logical Regression Model -> Spam or Ham (predictor)\n",
        "\"\"\"\n",
        "#importing libraries\n",
        "import numpy as np \n",
        "import pandas as pd\n",
        "from sklearn.model_selection import train_test_split\n",
        "from sklearn.feature_extraction.text import TfidfVectorizer\n",
        "from sklearn.linear_model import LogisticRegression\n",
        "from sklearn.metrics import accuracy_score"
      ]
    },
    {
      "cell_type": "code",
      "source": [
        "#loading the data from csv file to the pandas dataframe\n",
        "raw_mail_data=pd.read_csv('/content/mail_data.csv')"
      ],
      "metadata": {
        "id": "RNPCZd_wmPVe"
      },
      "execution_count": 4,
      "outputs": []
    },
    {
      "cell_type": "code",
      "source": [
        "print(raw_mail_data)"
      ],
      "metadata": {
        "colab": {
          "base_uri": "https://localhost:8080/"
        },
        "id": "1ZUB8WDMmfe2",
        "outputId": "b5e6e6f1-283b-42dc-ebc7-c58f40950c7b"
      },
      "execution_count": 5,
      "outputs": [
        {
          "output_type": "stream",
          "name": "stdout",
          "text": [
            "     Category                                            Message\n",
            "0         ham  Go until jurong point, crazy.. Available only ...\n",
            "1         ham                      Ok lar... Joking wif u oni...\n",
            "2        spam  Free entry in 2 a wkly comp to win FA Cup fina...\n",
            "3         ham  U dun say so early hor... U c already then say...\n",
            "4         ham  Nah I don't think he goes to usf, he lives aro...\n",
            "...       ...                                                ...\n",
            "5567     spam  This is the 2nd time we have tried 2 contact u...\n",
            "5568      ham               Will ü b going to esplanade fr home?\n",
            "5569      ham  Pity, * was in mood for that. So...any other s...\n",
            "5570      ham  The guy did some bitching but I acted like i'd...\n",
            "5571      ham                         Rofl. Its true to its name\n",
            "\n",
            "[5572 rows x 2 columns]\n"
          ]
        }
      ]
    },
    {
      "cell_type": "code",
      "source": [
        "raw_mail_data.head(10)"
      ],
      "metadata": {
        "colab": {
          "base_uri": "https://localhost:8080/",
          "height": 363
        },
        "id": "lcARyPvjmnv2",
        "outputId": "aa0a3994-d4db-4241-8145-ed1499b749cf"
      },
      "execution_count": 6,
      "outputs": [
        {
          "output_type": "execute_result",
          "data": {
            "text/plain": [
              "  Category                                            Message\n",
              "0      ham  Go until jurong point, crazy.. Available only ...\n",
              "1      ham                      Ok lar... Joking wif u oni...\n",
              "2     spam  Free entry in 2 a wkly comp to win FA Cup fina...\n",
              "3      ham  U dun say so early hor... U c already then say...\n",
              "4      ham  Nah I don't think he goes to usf, he lives aro...\n",
              "5     spam  FreeMsg Hey there darling it's been 3 week's n...\n",
              "6      ham  Even my brother is not like to speak with me. ...\n",
              "7      ham  As per your request 'Melle Melle (Oru Minnamin...\n",
              "8     spam  WINNER!! As a valued network customer you have...\n",
              "9     spam  Had your mobile 11 months or more? U R entitle..."
            ],
            "text/html": [
              "\n",
              "  <div id=\"df-6125b9d7-cb58-4fa6-a6a4-b87b293d62b5\">\n",
              "    <div class=\"colab-df-container\">\n",
              "      <div>\n",
              "<style scoped>\n",
              "    .dataframe tbody tr th:only-of-type {\n",
              "        vertical-align: middle;\n",
              "    }\n",
              "\n",
              "    .dataframe tbody tr th {\n",
              "        vertical-align: top;\n",
              "    }\n",
              "\n",
              "    .dataframe thead th {\n",
              "        text-align: right;\n",
              "    }\n",
              "</style>\n",
              "<table border=\"1\" class=\"dataframe\">\n",
              "  <thead>\n",
              "    <tr style=\"text-align: right;\">\n",
              "      <th></th>\n",
              "      <th>Category</th>\n",
              "      <th>Message</th>\n",
              "    </tr>\n",
              "  </thead>\n",
              "  <tbody>\n",
              "    <tr>\n",
              "      <th>0</th>\n",
              "      <td>ham</td>\n",
              "      <td>Go until jurong point, crazy.. Available only ...</td>\n",
              "    </tr>\n",
              "    <tr>\n",
              "      <th>1</th>\n",
              "      <td>ham</td>\n",
              "      <td>Ok lar... Joking wif u oni...</td>\n",
              "    </tr>\n",
              "    <tr>\n",
              "      <th>2</th>\n",
              "      <td>spam</td>\n",
              "      <td>Free entry in 2 a wkly comp to win FA Cup fina...</td>\n",
              "    </tr>\n",
              "    <tr>\n",
              "      <th>3</th>\n",
              "      <td>ham</td>\n",
              "      <td>U dun say so early hor... U c already then say...</td>\n",
              "    </tr>\n",
              "    <tr>\n",
              "      <th>4</th>\n",
              "      <td>ham</td>\n",
              "      <td>Nah I don't think he goes to usf, he lives aro...</td>\n",
              "    </tr>\n",
              "    <tr>\n",
              "      <th>5</th>\n",
              "      <td>spam</td>\n",
              "      <td>FreeMsg Hey there darling it's been 3 week's n...</td>\n",
              "    </tr>\n",
              "    <tr>\n",
              "      <th>6</th>\n",
              "      <td>ham</td>\n",
              "      <td>Even my brother is not like to speak with me. ...</td>\n",
              "    </tr>\n",
              "    <tr>\n",
              "      <th>7</th>\n",
              "      <td>ham</td>\n",
              "      <td>As per your request 'Melle Melle (Oru Minnamin...</td>\n",
              "    </tr>\n",
              "    <tr>\n",
              "      <th>8</th>\n",
              "      <td>spam</td>\n",
              "      <td>WINNER!! As a valued network customer you have...</td>\n",
              "    </tr>\n",
              "    <tr>\n",
              "      <th>9</th>\n",
              "      <td>spam</td>\n",
              "      <td>Had your mobile 11 months or more? U R entitle...</td>\n",
              "    </tr>\n",
              "  </tbody>\n",
              "</table>\n",
              "</div>\n",
              "      <button class=\"colab-df-convert\" onclick=\"convertToInteractive('df-6125b9d7-cb58-4fa6-a6a4-b87b293d62b5')\"\n",
              "              title=\"Convert this dataframe to an interactive table.\"\n",
              "              style=\"display:none;\">\n",
              "        \n",
              "  <svg xmlns=\"http://www.w3.org/2000/svg\" height=\"24px\"viewBox=\"0 0 24 24\"\n",
              "       width=\"24px\">\n",
              "    <path d=\"M0 0h24v24H0V0z\" fill=\"none\"/>\n",
              "    <path d=\"M18.56 5.44l.94 2.06.94-2.06 2.06-.94-2.06-.94-.94-2.06-.94 2.06-2.06.94zm-11 1L8.5 8.5l.94-2.06 2.06-.94-2.06-.94L8.5 2.5l-.94 2.06-2.06.94zm10 10l.94 2.06.94-2.06 2.06-.94-2.06-.94-.94-2.06-.94 2.06-2.06.94z\"/><path d=\"M17.41 7.96l-1.37-1.37c-.4-.4-.92-.59-1.43-.59-.52 0-1.04.2-1.43.59L10.3 9.45l-7.72 7.72c-.78.78-.78 2.05 0 2.83L4 21.41c.39.39.9.59 1.41.59.51 0 1.02-.2 1.41-.59l7.78-7.78 2.81-2.81c.8-.78.8-2.07 0-2.86zM5.41 20L4 18.59l7.72-7.72 1.47 1.35L5.41 20z\"/>\n",
              "  </svg>\n",
              "      </button>\n",
              "      \n",
              "  <style>\n",
              "    .colab-df-container {\n",
              "      display:flex;\n",
              "      flex-wrap:wrap;\n",
              "      gap: 12px;\n",
              "    }\n",
              "\n",
              "    .colab-df-convert {\n",
              "      background-color: #E8F0FE;\n",
              "      border: none;\n",
              "      border-radius: 50%;\n",
              "      cursor: pointer;\n",
              "      display: none;\n",
              "      fill: #1967D2;\n",
              "      height: 32px;\n",
              "      padding: 0 0 0 0;\n",
              "      width: 32px;\n",
              "    }\n",
              "\n",
              "    .colab-df-convert:hover {\n",
              "      background-color: #E2EBFA;\n",
              "      box-shadow: 0px 1px 2px rgba(60, 64, 67, 0.3), 0px 1px 3px 1px rgba(60, 64, 67, 0.15);\n",
              "      fill: #174EA6;\n",
              "    }\n",
              "\n",
              "    [theme=dark] .colab-df-convert {\n",
              "      background-color: #3B4455;\n",
              "      fill: #D2E3FC;\n",
              "    }\n",
              "\n",
              "    [theme=dark] .colab-df-convert:hover {\n",
              "      background-color: #434B5C;\n",
              "      box-shadow: 0px 1px 3px 1px rgba(0, 0, 0, 0.15);\n",
              "      filter: drop-shadow(0px 1px 2px rgba(0, 0, 0, 0.3));\n",
              "      fill: #FFFFFF;\n",
              "    }\n",
              "  </style>\n",
              "\n",
              "      <script>\n",
              "        const buttonEl =\n",
              "          document.querySelector('#df-6125b9d7-cb58-4fa6-a6a4-b87b293d62b5 button.colab-df-convert');\n",
              "        buttonEl.style.display =\n",
              "          google.colab.kernel.accessAllowed ? 'block' : 'none';\n",
              "\n",
              "        async function convertToInteractive(key) {\n",
              "          const element = document.querySelector('#df-6125b9d7-cb58-4fa6-a6a4-b87b293d62b5');\n",
              "          const dataTable =\n",
              "            await google.colab.kernel.invokeFunction('convertToInteractive',\n",
              "                                                     [key], {});\n",
              "          if (!dataTable) return;\n",
              "\n",
              "          const docLinkHtml = 'Like what you see? Visit the ' +\n",
              "            '<a target=\"_blank\" href=https://colab.research.google.com/notebooks/data_table.ipynb>data table notebook</a>'\n",
              "            + ' to learn more about interactive tables.';\n",
              "          element.innerHTML = '';\n",
              "          dataTable['output_type'] = 'display_data';\n",
              "          await google.colab.output.renderOutput(dataTable, element);\n",
              "          const docLink = document.createElement('div');\n",
              "          docLink.innerHTML = docLinkHtml;\n",
              "          element.appendChild(docLink);\n",
              "        }\n",
              "      </script>\n",
              "    </div>\n",
              "  </div>\n",
              "  "
            ]
          },
          "metadata": {},
          "execution_count": 6
        }
      ]
    },
    {
      "cell_type": "code",
      "source": [
        "#replace the null values with null string\n",
        "mail_data = raw_mail_data.where((pd.notnull(raw_mail_data)),'')"
      ],
      "metadata": {
        "id": "fOMb0E7XmsUs"
      },
      "execution_count": 8,
      "outputs": []
    },
    {
      "cell_type": "code",
      "source": [
        "# printing the 5 rwos of the datafarme\n",
        "mail_data.head()\n"
      ],
      "metadata": {
        "colab": {
          "base_uri": "https://localhost:8080/",
          "height": 206
        },
        "id": "8btg9mQunHo_",
        "outputId": "e4642042-b9c2-4be6-8de5-0bfdf5234d27"
      },
      "execution_count": 9,
      "outputs": [
        {
          "output_type": "execute_result",
          "data": {
            "text/plain": [
              "  Category                                            Message\n",
              "0      ham  Go until jurong point, crazy.. Available only ...\n",
              "1      ham                      Ok lar... Joking wif u oni...\n",
              "2     spam  Free entry in 2 a wkly comp to win FA Cup fina...\n",
              "3      ham  U dun say so early hor... U c already then say...\n",
              "4      ham  Nah I don't think he goes to usf, he lives aro..."
            ],
            "text/html": [
              "\n",
              "  <div id=\"df-f12ba5c7-311e-4997-b351-830490249ca6\">\n",
              "    <div class=\"colab-df-container\">\n",
              "      <div>\n",
              "<style scoped>\n",
              "    .dataframe tbody tr th:only-of-type {\n",
              "        vertical-align: middle;\n",
              "    }\n",
              "\n",
              "    .dataframe tbody tr th {\n",
              "        vertical-align: top;\n",
              "    }\n",
              "\n",
              "    .dataframe thead th {\n",
              "        text-align: right;\n",
              "    }\n",
              "</style>\n",
              "<table border=\"1\" class=\"dataframe\">\n",
              "  <thead>\n",
              "    <tr style=\"text-align: right;\">\n",
              "      <th></th>\n",
              "      <th>Category</th>\n",
              "      <th>Message</th>\n",
              "    </tr>\n",
              "  </thead>\n",
              "  <tbody>\n",
              "    <tr>\n",
              "      <th>0</th>\n",
              "      <td>ham</td>\n",
              "      <td>Go until jurong point, crazy.. Available only ...</td>\n",
              "    </tr>\n",
              "    <tr>\n",
              "      <th>1</th>\n",
              "      <td>ham</td>\n",
              "      <td>Ok lar... Joking wif u oni...</td>\n",
              "    </tr>\n",
              "    <tr>\n",
              "      <th>2</th>\n",
              "      <td>spam</td>\n",
              "      <td>Free entry in 2 a wkly comp to win FA Cup fina...</td>\n",
              "    </tr>\n",
              "    <tr>\n",
              "      <th>3</th>\n",
              "      <td>ham</td>\n",
              "      <td>U dun say so early hor... U c already then say...</td>\n",
              "    </tr>\n",
              "    <tr>\n",
              "      <th>4</th>\n",
              "      <td>ham</td>\n",
              "      <td>Nah I don't think he goes to usf, he lives aro...</td>\n",
              "    </tr>\n",
              "  </tbody>\n",
              "</table>\n",
              "</div>\n",
              "      <button class=\"colab-df-convert\" onclick=\"convertToInteractive('df-f12ba5c7-311e-4997-b351-830490249ca6')\"\n",
              "              title=\"Convert this dataframe to an interactive table.\"\n",
              "              style=\"display:none;\">\n",
              "        \n",
              "  <svg xmlns=\"http://www.w3.org/2000/svg\" height=\"24px\"viewBox=\"0 0 24 24\"\n",
              "       width=\"24px\">\n",
              "    <path d=\"M0 0h24v24H0V0z\" fill=\"none\"/>\n",
              "    <path d=\"M18.56 5.44l.94 2.06.94-2.06 2.06-.94-2.06-.94-.94-2.06-.94 2.06-2.06.94zm-11 1L8.5 8.5l.94-2.06 2.06-.94-2.06-.94L8.5 2.5l-.94 2.06-2.06.94zm10 10l.94 2.06.94-2.06 2.06-.94-2.06-.94-.94-2.06-.94 2.06-2.06.94z\"/><path d=\"M17.41 7.96l-1.37-1.37c-.4-.4-.92-.59-1.43-.59-.52 0-1.04.2-1.43.59L10.3 9.45l-7.72 7.72c-.78.78-.78 2.05 0 2.83L4 21.41c.39.39.9.59 1.41.59.51 0 1.02-.2 1.41-.59l7.78-7.78 2.81-2.81c.8-.78.8-2.07 0-2.86zM5.41 20L4 18.59l7.72-7.72 1.47 1.35L5.41 20z\"/>\n",
              "  </svg>\n",
              "      </button>\n",
              "      \n",
              "  <style>\n",
              "    .colab-df-container {\n",
              "      display:flex;\n",
              "      flex-wrap:wrap;\n",
              "      gap: 12px;\n",
              "    }\n",
              "\n",
              "    .colab-df-convert {\n",
              "      background-color: #E8F0FE;\n",
              "      border: none;\n",
              "      border-radius: 50%;\n",
              "      cursor: pointer;\n",
              "      display: none;\n",
              "      fill: #1967D2;\n",
              "      height: 32px;\n",
              "      padding: 0 0 0 0;\n",
              "      width: 32px;\n",
              "    }\n",
              "\n",
              "    .colab-df-convert:hover {\n",
              "      background-color: #E2EBFA;\n",
              "      box-shadow: 0px 1px 2px rgba(60, 64, 67, 0.3), 0px 1px 3px 1px rgba(60, 64, 67, 0.15);\n",
              "      fill: #174EA6;\n",
              "    }\n",
              "\n",
              "    [theme=dark] .colab-df-convert {\n",
              "      background-color: #3B4455;\n",
              "      fill: #D2E3FC;\n",
              "    }\n",
              "\n",
              "    [theme=dark] .colab-df-convert:hover {\n",
              "      background-color: #434B5C;\n",
              "      box-shadow: 0px 1px 3px 1px rgba(0, 0, 0, 0.15);\n",
              "      filter: drop-shadow(0px 1px 2px rgba(0, 0, 0, 0.3));\n",
              "      fill: #FFFFFF;\n",
              "    }\n",
              "  </style>\n",
              "\n",
              "      <script>\n",
              "        const buttonEl =\n",
              "          document.querySelector('#df-f12ba5c7-311e-4997-b351-830490249ca6 button.colab-df-convert');\n",
              "        buttonEl.style.display =\n",
              "          google.colab.kernel.accessAllowed ? 'block' : 'none';\n",
              "\n",
              "        async function convertToInteractive(key) {\n",
              "          const element = document.querySelector('#df-f12ba5c7-311e-4997-b351-830490249ca6');\n",
              "          const dataTable =\n",
              "            await google.colab.kernel.invokeFunction('convertToInteractive',\n",
              "                                                     [key], {});\n",
              "          if (!dataTable) return;\n",
              "\n",
              "          const docLinkHtml = 'Like what you see? Visit the ' +\n",
              "            '<a target=\"_blank\" href=https://colab.research.google.com/notebooks/data_table.ipynb>data table notebook</a>'\n",
              "            + ' to learn more about interactive tables.';\n",
              "          element.innerHTML = '';\n",
              "          dataTable['output_type'] = 'display_data';\n",
              "          await google.colab.output.renderOutput(dataTable, element);\n",
              "          const docLink = document.createElement('div');\n",
              "          docLink.innerHTML = docLinkHtml;\n",
              "          element.appendChild(docLink);\n",
              "        }\n",
              "      </script>\n",
              "    </div>\n",
              "  </div>\n",
              "  "
            ]
          },
          "metadata": {},
          "execution_count": 9
        }
      ]
    },
    {
      "cell_type": "code",
      "source": [
        "#number of rows and columns\n",
        "mail_data.shape"
      ],
      "metadata": {
        "colab": {
          "base_uri": "https://localhost:8080/"
        },
        "id": "Ra5cXeotnTPW",
        "outputId": "4d58d757-90af-4f6d-a31e-172af851580c"
      },
      "execution_count": 11,
      "outputs": [
        {
          "output_type": "execute_result",
          "data": {
            "text/plain": [
              "(5572, 2)"
            ]
          },
          "metadata": {},
          "execution_count": 11
        }
      ]
    },
    {
      "cell_type": "markdown",
      "source": [
        "5571 rows and 2 columns"
      ],
      "metadata": {
        "id": "K3D4Ykp3nt3D"
      }
    },
    {
      "cell_type": "code",
      "source": [
        "# labbeling spam mails as 0\n",
        "# And ham mails as 1\n",
        "\n",
        "mail_data.loc[mail_data['Category'] == 'spam' , 'Category' ,]=0\n",
        "mail_data.loc[mail_data['Category'] == 'ham' , 'Category' ,]=1"
      ],
      "metadata": {
        "id": "u3XhjR5Jnp2A"
      },
      "execution_count": 14,
      "outputs": []
    },
    {
      "cell_type": "markdown",
      "source": [
        "Ham is represented by 1\n",
        "and Spam is represented by 0"
      ],
      "metadata": {
        "id": "qorsJTCOoWd-"
      }
    },
    {
      "cell_type": "code",
      "source": [
        "# the data now looks like\n",
        "mail_data.head(10)"
      ],
      "metadata": {
        "colab": {
          "base_uri": "https://localhost:8080/",
          "height": 363
        },
        "id": "3z1_grs4oE79",
        "outputId": "077332c2-80de-4590-ccec-bf7db48db6c9"
      },
      "execution_count": 17,
      "outputs": [
        {
          "output_type": "execute_result",
          "data": {
            "text/plain": [
              "  Category                                            Message\n",
              "0        1  Go until jurong point, crazy.. Available only ...\n",
              "1        1                      Ok lar... Joking wif u oni...\n",
              "2        0  Free entry in 2 a wkly comp to win FA Cup fina...\n",
              "3        1  U dun say so early hor... U c already then say...\n",
              "4        1  Nah I don't think he goes to usf, he lives aro...\n",
              "5        0  FreeMsg Hey there darling it's been 3 week's n...\n",
              "6        1  Even my brother is not like to speak with me. ...\n",
              "7        1  As per your request 'Melle Melle (Oru Minnamin...\n",
              "8        0  WINNER!! As a valued network customer you have...\n",
              "9        0  Had your mobile 11 months or more? U R entitle..."
            ],
            "text/html": [
              "\n",
              "  <div id=\"df-e2e5a371-e63b-47f0-b33d-901a8808ae72\">\n",
              "    <div class=\"colab-df-container\">\n",
              "      <div>\n",
              "<style scoped>\n",
              "    .dataframe tbody tr th:only-of-type {\n",
              "        vertical-align: middle;\n",
              "    }\n",
              "\n",
              "    .dataframe tbody tr th {\n",
              "        vertical-align: top;\n",
              "    }\n",
              "\n",
              "    .dataframe thead th {\n",
              "        text-align: right;\n",
              "    }\n",
              "</style>\n",
              "<table border=\"1\" class=\"dataframe\">\n",
              "  <thead>\n",
              "    <tr style=\"text-align: right;\">\n",
              "      <th></th>\n",
              "      <th>Category</th>\n",
              "      <th>Message</th>\n",
              "    </tr>\n",
              "  </thead>\n",
              "  <tbody>\n",
              "    <tr>\n",
              "      <th>0</th>\n",
              "      <td>1</td>\n",
              "      <td>Go until jurong point, crazy.. Available only ...</td>\n",
              "    </tr>\n",
              "    <tr>\n",
              "      <th>1</th>\n",
              "      <td>1</td>\n",
              "      <td>Ok lar... Joking wif u oni...</td>\n",
              "    </tr>\n",
              "    <tr>\n",
              "      <th>2</th>\n",
              "      <td>0</td>\n",
              "      <td>Free entry in 2 a wkly comp to win FA Cup fina...</td>\n",
              "    </tr>\n",
              "    <tr>\n",
              "      <th>3</th>\n",
              "      <td>1</td>\n",
              "      <td>U dun say so early hor... U c already then say...</td>\n",
              "    </tr>\n",
              "    <tr>\n",
              "      <th>4</th>\n",
              "      <td>1</td>\n",
              "      <td>Nah I don't think he goes to usf, he lives aro...</td>\n",
              "    </tr>\n",
              "    <tr>\n",
              "      <th>5</th>\n",
              "      <td>0</td>\n",
              "      <td>FreeMsg Hey there darling it's been 3 week's n...</td>\n",
              "    </tr>\n",
              "    <tr>\n",
              "      <th>6</th>\n",
              "      <td>1</td>\n",
              "      <td>Even my brother is not like to speak with me. ...</td>\n",
              "    </tr>\n",
              "    <tr>\n",
              "      <th>7</th>\n",
              "      <td>1</td>\n",
              "      <td>As per your request 'Melle Melle (Oru Minnamin...</td>\n",
              "    </tr>\n",
              "    <tr>\n",
              "      <th>8</th>\n",
              "      <td>0</td>\n",
              "      <td>WINNER!! As a valued network customer you have...</td>\n",
              "    </tr>\n",
              "    <tr>\n",
              "      <th>9</th>\n",
              "      <td>0</td>\n",
              "      <td>Had your mobile 11 months or more? U R entitle...</td>\n",
              "    </tr>\n",
              "  </tbody>\n",
              "</table>\n",
              "</div>\n",
              "      <button class=\"colab-df-convert\" onclick=\"convertToInteractive('df-e2e5a371-e63b-47f0-b33d-901a8808ae72')\"\n",
              "              title=\"Convert this dataframe to an interactive table.\"\n",
              "              style=\"display:none;\">\n",
              "        \n",
              "  <svg xmlns=\"http://www.w3.org/2000/svg\" height=\"24px\"viewBox=\"0 0 24 24\"\n",
              "       width=\"24px\">\n",
              "    <path d=\"M0 0h24v24H0V0z\" fill=\"none\"/>\n",
              "    <path d=\"M18.56 5.44l.94 2.06.94-2.06 2.06-.94-2.06-.94-.94-2.06-.94 2.06-2.06.94zm-11 1L8.5 8.5l.94-2.06 2.06-.94-2.06-.94L8.5 2.5l-.94 2.06-2.06.94zm10 10l.94 2.06.94-2.06 2.06-.94-2.06-.94-.94-2.06-.94 2.06-2.06.94z\"/><path d=\"M17.41 7.96l-1.37-1.37c-.4-.4-.92-.59-1.43-.59-.52 0-1.04.2-1.43.59L10.3 9.45l-7.72 7.72c-.78.78-.78 2.05 0 2.83L4 21.41c.39.39.9.59 1.41.59.51 0 1.02-.2 1.41-.59l7.78-7.78 2.81-2.81c.8-.78.8-2.07 0-2.86zM5.41 20L4 18.59l7.72-7.72 1.47 1.35L5.41 20z\"/>\n",
              "  </svg>\n",
              "      </button>\n",
              "      \n",
              "  <style>\n",
              "    .colab-df-container {\n",
              "      display:flex;\n",
              "      flex-wrap:wrap;\n",
              "      gap: 12px;\n",
              "    }\n",
              "\n",
              "    .colab-df-convert {\n",
              "      background-color: #E8F0FE;\n",
              "      border: none;\n",
              "      border-radius: 50%;\n",
              "      cursor: pointer;\n",
              "      display: none;\n",
              "      fill: #1967D2;\n",
              "      height: 32px;\n",
              "      padding: 0 0 0 0;\n",
              "      width: 32px;\n",
              "    }\n",
              "\n",
              "    .colab-df-convert:hover {\n",
              "      background-color: #E2EBFA;\n",
              "      box-shadow: 0px 1px 2px rgba(60, 64, 67, 0.3), 0px 1px 3px 1px rgba(60, 64, 67, 0.15);\n",
              "      fill: #174EA6;\n",
              "    }\n",
              "\n",
              "    [theme=dark] .colab-df-convert {\n",
              "      background-color: #3B4455;\n",
              "      fill: #D2E3FC;\n",
              "    }\n",
              "\n",
              "    [theme=dark] .colab-df-convert:hover {\n",
              "      background-color: #434B5C;\n",
              "      box-shadow: 0px 1px 3px 1px rgba(0, 0, 0, 0.15);\n",
              "      filter: drop-shadow(0px 1px 2px rgba(0, 0, 0, 0.3));\n",
              "      fill: #FFFFFF;\n",
              "    }\n",
              "  </style>\n",
              "\n",
              "      <script>\n",
              "        const buttonEl =\n",
              "          document.querySelector('#df-e2e5a371-e63b-47f0-b33d-901a8808ae72 button.colab-df-convert');\n",
              "        buttonEl.style.display =\n",
              "          google.colab.kernel.accessAllowed ? 'block' : 'none';\n",
              "\n",
              "        async function convertToInteractive(key) {\n",
              "          const element = document.querySelector('#df-e2e5a371-e63b-47f0-b33d-901a8808ae72');\n",
              "          const dataTable =\n",
              "            await google.colab.kernel.invokeFunction('convertToInteractive',\n",
              "                                                     [key], {});\n",
              "          if (!dataTable) return;\n",
              "\n",
              "          const docLinkHtml = 'Like what you see? Visit the ' +\n",
              "            '<a target=\"_blank\" href=https://colab.research.google.com/notebooks/data_table.ipynb>data table notebook</a>'\n",
              "            + ' to learn more about interactive tables.';\n",
              "          element.innerHTML = '';\n",
              "          dataTable['output_type'] = 'display_data';\n",
              "          await google.colab.output.renderOutput(dataTable, element);\n",
              "          const docLink = document.createElement('div');\n",
              "          docLink.innerHTML = docLinkHtml;\n",
              "          element.appendChild(docLink);\n",
              "        }\n",
              "      </script>\n",
              "    </div>\n",
              "  </div>\n",
              "  "
            ]
          },
          "metadata": {},
          "execution_count": 17
        }
      ]
    },
    {
      "cell_type": "code",
      "source": [
        "# seperating the data as texts and labels\n",
        "A = mail_data['Message']\n",
        "B = mail_data['Category']"
      ],
      "metadata": {
        "id": "TlPpGf2toQLh"
      },
      "execution_count": 22,
      "outputs": []
    },
    {
      "cell_type": "code",
      "source": [
        "print(A)"
      ],
      "metadata": {
        "colab": {
          "base_uri": "https://localhost:8080/"
        },
        "id": "dZ-GX_tSovMl",
        "outputId": "382fdfa9-90ff-4490-b467-7d6abefc6a16"
      },
      "execution_count": 23,
      "outputs": [
        {
          "output_type": "stream",
          "name": "stdout",
          "text": [
            "0       Go until jurong point, crazy.. Available only ...\n",
            "1                           Ok lar... Joking wif u oni...\n",
            "2       Free entry in 2 a wkly comp to win FA Cup fina...\n",
            "3       U dun say so early hor... U c already then say...\n",
            "4       Nah I don't think he goes to usf, he lives aro...\n",
            "                              ...                        \n",
            "5567    This is the 2nd time we have tried 2 contact u...\n",
            "5568                 Will ü b going to esplanade fr home?\n",
            "5569    Pity, * was in mood for that. So...any other s...\n",
            "5570    The guy did some bitching but I acted like i'd...\n",
            "5571                           Rofl. Its true to its name\n",
            "Name: Message, Length: 5572, dtype: object\n"
          ]
        }
      ]
    },
    {
      "cell_type": "code",
      "source": [
        "print(B)"
      ],
      "metadata": {
        "colab": {
          "base_uri": "https://localhost:8080/"
        },
        "id": "XknneLe0o9jH",
        "outputId": "450d4057-7f20-4bd0-84ac-cd06abc8cbf8"
      },
      "execution_count": 24,
      "outputs": [
        {
          "output_type": "stream",
          "name": "stdout",
          "text": [
            "0       1\n",
            "1       1\n",
            "2       0\n",
            "3       1\n",
            "4       1\n",
            "       ..\n",
            "5567    0\n",
            "5568    1\n",
            "5569    1\n",
            "5570    1\n",
            "5571    1\n",
            "Name: Category, Length: 5572, dtype: object\n"
          ]
        }
      ]
    },
    {
      "cell_type": "markdown",
      "source": [
        "Spliting the data into training data and test data\n",
        " "
      ],
      "metadata": {
        "id": "wbuuMvw5pHBw"
      }
    },
    {
      "cell_type": "code",
      "source": [
        "A_train, A_test, B_train, B_test = train_test_split(A, B, test_size=0.2, random_state=3)"
      ],
      "metadata": {
        "id": "9KXqDwv7pW1D"
      },
      "execution_count": 25,
      "outputs": []
    },
    {
      "cell_type": "markdown",
      "source": [
        "0.2 in test size represents 80% data given for the training of thr model"
      ],
      "metadata": {
        "id": "LEBN4kNpqbCg"
      }
    },
    {
      "cell_type": "code",
      "source": [
        "print(A.shape)\n",
        "print(A_train.shape)\n",
        "print(A_test.shape)"
      ],
      "metadata": {
        "colab": {
          "base_uri": "https://localhost:8080/"
        },
        "id": "2wPTFW_pp2PS",
        "outputId": "bfc5751f-6cd9-4711-90de-ad1c363f9ae0"
      },
      "execution_count": 27,
      "outputs": [
        {
          "output_type": "stream",
          "name": "stdout",
          "text": [
            "(5572,)\n",
            "(4457,)\n",
            "(1115,)\n"
          ]
        }
      ]
    },
    {
      "cell_type": "markdown",
      "source": [
        "Feature Extraction"
      ],
      "metadata": {
        "id": "3B7bAVhJqlD6"
      }
    },
    {
      "cell_type": "code",
      "source": [
        "# transform the text data to feature vectors that can be used as input to the logistic regression\n",
        "\n",
        "feature_extraction = TfidfVectorizer(min_df =1, stop_words='english', lowercase='True')"
      ],
      "metadata": {
        "id": "K081ufMGqHgz"
      },
      "execution_count": 28,
      "outputs": []
    },
    {
      "cell_type": "code",
      "source": [
        "A_train_features =feature_extraction.fit_transform(A_train)\n",
        "A_test_features = feature_extraction.transform(A_test)\n",
        "\n",
        "# convert B_train B_test values as integers\n",
        "\n",
        "B_train =B_train.astype('int')\n",
        "B_test =B_test.astype('int')"
      ],
      "metadata": {
        "id": "BWDSOezgrQb8"
      },
      "execution_count": 29,
      "outputs": []
    },
    {
      "cell_type": "code",
      "source": [
        "print(A_train)"
      ],
      "metadata": {
        "colab": {
          "base_uri": "https://localhost:8080/"
        },
        "id": "S4d1MiWysjYz",
        "outputId": "bab1389f-3760-4409-cde2-f532ef662650"
      },
      "execution_count": 32,
      "outputs": [
        {
          "output_type": "stream",
          "name": "stdout",
          "text": [
            "3075                  Don know. I did't msg him recently.\n",
            "1787    Do you know why god created gap between your f...\n",
            "1614                         Thnx dude. u guys out 2nite?\n",
            "4304                                      Yup i'm free...\n",
            "3266    44 7732584351, Do you want a New Nokia 3510i c...\n",
            "                              ...                        \n",
            "789     5 Free Top Polyphonic Tones call 087018728737,...\n",
            "968     What do u want when i come back?.a beautiful n...\n",
            "1667    Guess who spent all last night phasing in and ...\n",
            "3321    Eh sorry leh... I din c ur msg. Not sad alread...\n",
            "1688    Free Top ringtone -sub to weekly ringtone-get ...\n",
            "Name: Message, Length: 4457, dtype: object\n"
          ]
        }
      ]
    },
    {
      "cell_type": "code",
      "source": [
        "print(A_train_features)"
      ],
      "metadata": {
        "colab": {
          "base_uri": "https://localhost:8080/"
        },
        "id": "-rw3HLfrsplF",
        "outputId": "f4dbc2b0-1070-41b3-b985-5622ae77ff35"
      },
      "execution_count": 33,
      "outputs": [
        {
          "output_type": "stream",
          "name": "stdout",
          "text": [
            "  (0, 5413)\t0.6198254967574347\n",
            "  (0, 4456)\t0.4168658090846482\n",
            "  (0, 2224)\t0.413103377943378\n",
            "  (0, 3811)\t0.34780165336891333\n",
            "  (0, 2329)\t0.38783870336935383\n",
            "  (1, 4080)\t0.18880584110891163\n",
            "  (1, 3185)\t0.29694482957694585\n",
            "  (1, 3325)\t0.31610586766078863\n",
            "  (1, 2957)\t0.3398297002864083\n",
            "  (1, 2746)\t0.3398297002864083\n",
            "  (1, 918)\t0.22871581159877646\n",
            "  (1, 1839)\t0.2784903590561455\n",
            "  (1, 2758)\t0.3226407885943799\n",
            "  (1, 2956)\t0.33036995955537024\n",
            "  (1, 1991)\t0.33036995955537024\n",
            "  (1, 3046)\t0.2503712792613518\n",
            "  (1, 3811)\t0.17419952275504033\n",
            "  (2, 407)\t0.509272536051008\n",
            "  (2, 3156)\t0.4107239318312698\n",
            "  (2, 2404)\t0.45287711070606745\n",
            "  (2, 6601)\t0.6056811524587518\n",
            "  (3, 2870)\t0.5864269879324768\n",
            "  (3, 7414)\t0.8100020912469564\n",
            "  (4, 50)\t0.23633754072626942\n",
            "  (4, 5497)\t0.15743785051118356\n",
            "  :\t:\n",
            "  (4454, 4602)\t0.2669765732445391\n",
            "  (4454, 3142)\t0.32014451677763156\n",
            "  (4455, 2247)\t0.37052851863170466\n",
            "  (4455, 2469)\t0.35441545511837946\n",
            "  (4455, 5646)\t0.33545678464631296\n",
            "  (4455, 6810)\t0.29731757715898277\n",
            "  (4455, 6091)\t0.23103841516927642\n",
            "  (4455, 7113)\t0.30536590342067704\n",
            "  (4455, 3872)\t0.3108911491788658\n",
            "  (4455, 4715)\t0.30714144758811196\n",
            "  (4455, 6916)\t0.19636985317119715\n",
            "  (4455, 3922)\t0.31287563163368587\n",
            "  (4455, 4456)\t0.24920025316220423\n",
            "  (4456, 141)\t0.292943737785358\n",
            "  (4456, 647)\t0.30133182431707617\n",
            "  (4456, 6311)\t0.30133182431707617\n",
            "  (4456, 5569)\t0.4619395404299172\n",
            "  (4456, 6028)\t0.21034888000987115\n",
            "  (4456, 7154)\t0.24083218452280053\n",
            "  (4456, 7150)\t0.3677554681447669\n",
            "  (4456, 6249)\t0.17573831794959716\n",
            "  (4456, 6307)\t0.2752760476857975\n",
            "  (4456, 334)\t0.2220077711654938\n",
            "  (4456, 5778)\t0.16243064490100795\n",
            "  (4456, 2870)\t0.31523196273113385\n"
          ]
        }
      ]
    },
    {
      "cell_type": "markdown",
      "source": [
        "Training the  Model\n",
        "\n",
        "Logistic Regression\n",
        "\n",
        "\n",
        "\n"
      ],
      "metadata": {
        "id": "lu1BG7Uas19D"
      }
    },
    {
      "cell_type": "code",
      "source": [
        "model=LogisticRegression()"
      ],
      "metadata": {
        "id": "VceSFgaotDSB"
      },
      "execution_count": 34,
      "outputs": []
    },
    {
      "cell_type": "code",
      "source": [
        "# training the Logistic Regression Model with the training data\n",
        "model.fit(A_train_features, B_train)"
      ],
      "metadata": {
        "colab": {
          "base_uri": "https://localhost:8080/"
        },
        "id": "eSuzSOJhtLrC",
        "outputId": "34362173-7f81-45f8-8c54-c77b7548881f"
      },
      "execution_count": 37,
      "outputs": [
        {
          "output_type": "execute_result",
          "data": {
            "text/plain": [
              "LogisticRegression()"
            ]
          },
          "metadata": {},
          "execution_count": 37
        }
      ]
    },
    {
      "cell_type": "markdown",
      "source": [
        "Evaluating the trained model"
      ],
      "metadata": {
        "id": "vCFgEa29trh6"
      }
    },
    {
      "cell_type": "code",
      "source": [
        "#prediction on training data\n",
        "prediction_on_training_data = model.predict(A_train_features)\n",
        "accuracy_on_training_data = accuracy_score(B_train, prediction_on_training_data)"
      ],
      "metadata": {
        "id": "Ycy2SZbRtwws"
      },
      "execution_count": 38,
      "outputs": []
    },
    {
      "cell_type": "code",
      "source": [
        "print('Accuracy on training data: ', accuracy_on_training_data)"
      ],
      "metadata": {
        "colab": {
          "base_uri": "https://localhost:8080/"
        },
        "id": "ZTMMX0Q9uRDx",
        "outputId": "2897b644-7e93-4fe4-845d-12c831ae99b7"
      },
      "execution_count": 39,
      "outputs": [
        {
          "output_type": "stream",
          "name": "stdout",
          "text": [
            "Accuracy on training data:  0.9670181736594121\n"
          ]
        }
      ]
    },
    {
      "cell_type": "markdown",
      "source": [
        "good accuracy"
      ],
      "metadata": {
        "id": "jWhAxIrzuxCT"
      }
    },
    {
      "cell_type": "code",
      "source": [
        "#prediction on test data\n",
        "prediction_on_test_data = model.predict(A_test_features)\n",
        "accuracy_on_test_data = accuracy_score(B_test, prediction_on_test_data)"
      ],
      "metadata": {
        "id": "ERhJG9zZudYu"
      },
      "execution_count": 47,
      "outputs": []
    },
    {
      "cell_type": "code",
      "source": [
        "print('Accuracy on test data: ', accuracy_on_test_data)"
      ],
      "metadata": {
        "colab": {
          "base_uri": "https://localhost:8080/"
        },
        "id": "ZisG_O5NvHc_",
        "outputId": "9543c91d-f9e6-4a4c-eb86-e55abcdc436c"
      },
      "execution_count": 48,
      "outputs": [
        {
          "output_type": "stream",
          "name": "stdout",
          "text": [
            "Accuracy on test data:  0.9659192825112107\n"
          ]
        }
      ]
    },
    {
      "cell_type": "markdown",
      "source": [
        "The reason we calculated the accuracy score for both training and test data is to check overfit is in order to check that the model fits same for both test and training data. This ensures model is general and not training data specific."
      ],
      "metadata": {
        "id": "UgdMVStuv8ZP"
      }
    },
    {
      "cell_type": "markdown",
      "source": [
        "As here in our case the accuracy is similar thus, the model fits well."
      ],
      "metadata": {
        "id": "ND2g_T_Fwolv"
      }
    },
    {
      "cell_type": "markdown",
      "source": [
        "Building the Predictive System"
      ],
      "metadata": {
        "id": "l8UO2TnWxJuk"
      }
    },
    {
      "cell_type": "code",
      "source": [
        "input_mail = [\"Go until jurong point, crazy.. Available only in bugis n great world la e buffet... Cine there got amore wat...\"]\n",
        "# convert text to feature vectors\n",
        "input_data_features = feature_extraction.transform(input_mail)\n",
        "\n",
        "# making prediction\n",
        "\n",
        "prediction = model.predict(input_data_features)\n",
        "print(prediction)\n",
        " \n",
        "if (prediction[0]==1):\n",
        "  print('Ham Mail')\n",
        "\n",
        "else:\n",
        "  print('Spam Mail')"
      ],
      "metadata": {
        "colab": {
          "base_uri": "https://localhost:8080/"
        },
        "id": "_XzH1mTgvyVc",
        "outputId": "85bbab64-afba-41a0-b452-fd9669131c0a"
      },
      "execution_count": 52,
      "outputs": [
        {
          "output_type": "stream",
          "name": "stdout",
          "text": [
            "[1]\n",
            "Ham Mail\n"
          ]
        }
      ]
    },
    {
      "cell_type": "markdown",
      "source": [
        "The model predicted correctly the email is ham mail"
      ],
      "metadata": {
        "id": "CubPDrUexv74"
      }
    },
    {
      "cell_type": "markdown",
      "source": [
        "![image.png](data:image/png;base64,iVBORw0KGgoAAAANSUhEUgAABLQAAABJCAYAAAAkGH93AAAAAXNSR0IArs4c6QAAAARnQU1BAACxjwv8YQUAAAAJcEhZcwAADsMAAA7DAcdvqGQAABlOSURBVHhe7d1Pb+PMfcDxn/tOGkg+eP0K5HsbyQiyQAFft7nIRwnJs0UPPrpAAaeBdLR6yO7VSIEFDEvJCzDR8wOvC1hCjvsyHnVmOJTI4b8hRdmS9f0AtCX+Hc6QFPXTzPDox48fS4n561//Kr/+9a/tO1QVBIEcHx/bdwAAAAAAANv18vIinU7HvjsMqYDWw8ODnJ+f23eo6uy//tW+AgAAAAAAeB2Pf/hiXx2Goy9fvix/+eUXiYblMhHfQkX/+fI/9hUAAAAAAMDr+Pfjf7GvDkOqhtb9/b30+337DlV9//5dPnz4YN8BAAAAAABs1yHGIv7B/gcAAAAAAAD2AgEtAAAAAAAA7BUCWgAAAAAAANgrBLQAAAAAAACwVwhoAQAAAAAAYK8Q0AIAAAAAAMBeqRbQWozl7OhIjmLD2XhhJyLPYnxm8+tM8rNrJpfkKQAAAAAAQCnvgNbs8kiO2kM5nS5luYyGuVzctasFYGaXJYGd9yyQu4fsHV+Mr2ViXwMAAAAAACCfX0Brdim9iUh/upTbrh1ntGTwuJTHQcu+R76+jEYdCYY3MrNj1hbycBdIZzRScwEAAAAAAKCIR0BrIePriUhnJJ8TwaxspiaXbTpnhst1+MZM05ExCWTYDqcnaneZ2luxZc/GautxKi1nsemr4XIdJMpoFhlLgmHSoUau0qq2MzavY+uxzDypdNRzfH4hHZnIt9RGbmQYdOTi/NiOcJTli7PPif0tmqYUlVfII89Lyw0AAAAAAKA5HgGtuTwH6t/psZTVw9LBkeuT+bpJ4nwknUlvFUTp3qpxU10HqSOjeThPVLvL9DPVE5nGmjOOZCjtVXBEB1baMjydrtZvViV9tcytmFibDqy4zSLVTJNeRr9UKl09set6HMjgs0qrG2xajEXH8vpXg9J999I6l4uO2rQT0Zp9MxuRrIpu5fkyk0u1zypDV9NPrqNgU9G08vLyyfPy9AEAAAAAADTLuw+tzknbvsqnA1aJ5oc5AZy0mdwMA+lPbWDKaMngqi8S3EnY7VQYWOt/XM/R/aijK0/yYqbbmmT9abJZZPfWBGHSTf36Mo3PmJHWxcOdqFRJbJMbsvs0uV73IRYFzTI34pMvLt0MND5/XHJaeXmV5Xmd9AEAAAAAAGzGO6AVPM/tqyJu87S2DHXtrjKLF3lS/3RNqvWyajDNEyNtOXECTqZmk5zKsYnJpIMvkWQQxup/dII+LTkPozk28BX2a5Web0Pdj9KPdQ5vgmZ5zTm98qUrn03fXG01ze1sv2iaVlZeJXnulT4AAAAAAIBmeQS0wqCGPL2UNCGzzdNkJPN48zO9rCfd6XzUtG09PCab4k16q8BJbxJrbmiDK/miwFe+1uBK+jKRax35WTxIGM9qNJyldEXH18IaY2ENp87FuRQlrSxfWoNHM27aj/omWzcrzJ9Wobzy8tzyKjcAAAAAAICGeAS0bM2lYCg364o6aVEAqE5/U61jOVX/nhJVqBxm/eu+t8IhFlix68hq3mhqFXVOxKPRZBhsunuQWVHNqQ11o/66Lr+pv325yov8+ORLjOmjTPeDldHxfGqaT3l55rlv+gAAAAAAAJrg1eSwNfhqau7opmVZT8kzHa5nBJRmlxlNDtsn0pFAki0Yo6Zxn5LN4nQn71Hn4mb966cjroZV5+PhOnRtokQa1Tp0CzjfQJtpnhgMpedRc6q2qK+qiU5YUZNGj3zRr+M7PH9WudQR0+VZ0TSf8vLM88L0AQAAAAAANMyzDy3dmfhS5qNOqr8k/ZS8sGPxrtzap+RF0/RTBMOn4sW0BmL6RbfrieItummcWjwZPLk+kfljFIgKmz4mm7cln6hnmtfZpxqu1tF7MjWMEh3FF+l+ts3uOnJxvpVwlmJrvSllTRpL80V3eq9yer2/E5VHtrlf0TSv8vLL8+JyAwAAAAAAaNbRjx8/lva1cX9/L/2+G4V6e4vxmbSHp6n+m/LG1xfrW6pGUOb79+/y4cMH+26/vV6eAwAAAACAut5TLMKX91MOd4PbN1TYqXqjTyLcpC+wd+kV8hwAAAAAAKCCvQlohU3b3CaPPXkazWXp3Z6w3OxmKIH0pfGHG+6h18pzAAAAAACAKvamyeG+OMRqfgAAAAAA4O0cYiyCgFaDfvXTP9tXAAAAAAAAr+vvf/ybffX+Hf3lL38xAS39BLt/+9//NiPvf/cn8x/V/ObPv7evAAAAAAAAXtchxXOOfv7551UNrd9+/cn8P6SIXpOiGlrkHwAAAAAAeC2HGI/Ys6ccAgAAAAAA4NAR0AIAAAAAAMBeIaAFAAAAAACAvUJACwAAAAAAAHuFgBYAAAAAAAD2ildAa3Z5JEeXM/sOh2ch4zN1DJyN1auQOSZi75PS84M82Q9Vj/VsPtfMOuvdps3S08zx7ZNvm+Nc3CU+x13ZPG91LjV6vC7Gcnak1qeH+L7kjd8bb3++vc51BQAAvAVqaL2m+I3pargUbrMAX/bLkTp3+H4C4H1Q17VPQwn6U1kul7J8HEircPyOybi3ORvvX+gNAADsHwJar8T8QtgeyulU3ZTqG1M7zEdP0tulX11nl+pm9EyS96ItGTxWuZmuOv8hqJknmeVxwGY3Mgz60u+LTL5tI6LFsVvPPuXbAZYx15EdN5fnQKRz0rbvI3njPbxSmWff28zl4q5tg1qveL4d4nHOud0s8hMA9g4BrVewGJ9Jb9KR0Xwpt1070moNHvnyDHiafZuI9D/K7UcT0aJ2IwC8FfXlv6cvyVP33iYMYj0OuLMBAADbVSmgpQMzqyrlGbWKzC91sSrnbp8FUT8Gmesxv4o4496FhTzcBeqO70q87+0yqu8XN6+yzbCy8juWl4X5H03Xd6cSyLAdTo+aDbjrKpOcv1r6zH8nbT55Ei1ffJyum6wlh+ymn3qdOg8S68ya1zd9Gftbpzx8JNOcXDbatvmftd3Ycslym8llfJoZwl8zw+XSeWPGp8qhjpmE8Sz1zan7UfoykWt3nzy2X7x/fuktW8dK/Lrm07w4Mb8afPKtsXNjLdy/amXpTqu6zYTcfPO7lpSd56n5nTzMK06t3n55pEet0/x31+dxTKyWi4bYDphpHteRcH+cMjfbdmor2LxK5FGFYzBzHx2J/XFX5KkoT3LVOf+0TY5Xs2xPXc1UCQ3bZh2mfPLGRwrSata/wWeHH7Vv12obnZF8dn6ocyX2N3qv8qT0HKpQHj77vOn2onSb/+70CmkNFV8TjJLzymef41bpjoas4zKvXOL7l7Vvm14DKuTfJteqojww07Z+3gAAGvfzzz8vo+Ef//BPZnBN+7JUsy71z3B2zLKv3ndGc/s+nCf+fjkfLTtqntUiSt56yta9LzLzz+aD9/5M+yY/4vkWjctfx3w56sTzMGTyuzNSU2Pvy/LabKuzdDeVua7Ye1dyet30WZ55kl7e3b90OsJl+mrObOl12nXE971K+gr31788ysxHHWc5ne71+/S2Q3p8YvsZ53FcYp+y5i1ZvhKTF+uycvMznO5uK5mnPvvnrjfrvdc61Lii48Zdb1hm8WMx41hzVTn2EulJH2uJ9NQoS3d/fLbpSi/j5oF97yQiue30POF6846drOtElWtC2X55piexzpDPMaGXTWw7q5x8riM5x3FHXTcS63fOw/B9nWMwZManjpv1+sM8SM7jylpHaZ446px/6X1yl0mXveamV43JOYayx3ul1afMNxKmzd23LFnlk8y39H7Wvx6m97mp7aXXE6qe1vRxEa47tg7P8yocV17Oev2J5XLO96x8Kss737Q2ln81r1U+eRAus83zBgC2Ky+e8575B7QSV3w7rujGIu8D21nGd9w+yMy/jA/M8MNb7WM0rPY1nWcRkyeJD/y47OXcfDTvS+ZRIzI/zDPXVVBGyekV0pfaR/88Me8LtxHeiCVmKbl5cdNoJJapmD53f0vyJLktX2GaEjduDjdt+fL3L5229LzpG9W6MtKRs/2iG9q09Hozy8k9BhLK12E46U3Ok3FsaoXln5Enllu+5r0zn5vG5Pv0usvKMnN9Jdt0ZU5P5EH2PieXKz/Ps+YvOl/iqu+XZ3pSeVvnmNAy8qh0Gc1dTr9XadLLxvYtuf/Z5aG5+5S9j3Z8SVkk50krm16UzlC9vM7cbmKZ7O2ml8s7BrPGe6bVq8w3kZfmNHd/zfvCPKlXHnnTm9qeWaaR8zRjmcT8/udV8XaKpLeRzJNQ+bhNrwF18s/dpn6v1quXiaXVbC8jXWsZaa+dnwCwG/LiOe9Zg31oudWn2zIM7CTI08u62rLpN8t2nqo+cGPCDmBNkypHV/cZJE8SW8371P8oyb1vMk/actJJdiZu+mSSUzkuag56epzs46x9Ih0J5Hmu3+xgmS0eRLdyPS3cKSWV15rveTyTS101P9GUtiXnFyaDbVOAqLlt1nYqsvuUyGfT7DCQu4cog8PtB3cPq6YKUZ9b66WauE55rqPwuHEsXtSRorKuF1+vGkzzhzzbPPa2WJZlquRbpqrneVc+q281YbOubXQG7JkeN2+9j4mmPnttmT+9hOePPufkRNr6PAue1dGmxZr9GhWPwbLjx+5z6bWrVMU8qXX+WRsfrxVtktYtCLaxo6+9j1W2V/s8jSu7Jmzj2t7UdcK14TWgVv7VuVZp28oDAMBbaiigpT8k1AeDjGQee8qN+o6A1rG6RfG86bMf7PlKAi/v0TbyZNJb3dD0Jn2ZLm+Lv2QVeVdl5n8ezy513y4q75ynHLQGV+u+rbKCUDUtHu7UV0T3pjfqX+bGBl3U9s8vpBPcSRjjcm9om7hObfda13eeghoOj9n972352NtWWb6aCud59CPDtB/1neL0z9KEmted4mOi2eMxfv7oc04uztVXR/3leyLmu/fsmznv16fULl7/6udJpfPvjb19WsOgzCqosAWvvY+bbK/WsnnXhMbPqy1+bjWU1qr5V/lateXPbgDA22kmoBV92bniaX1p4a//Mrku/+XfBr/iv9pFzK93nRP1cZ2lJcd6wZ21Qfpq50kGc5yGT5tc3zB5fKl0b9jnzxJIR8yT1JtMX1NsmuK1Ar34nseLsei+gPvTrLzriv5RVteSmukglEeHweWi2kHTWLnZwVRxtDewWutcLjq21pa+oY1vv4nrVJV1FB03rjpltvVjbxtl6aEw3zyuJXXPc6V7q+adj9TWYsfUpuqmx+eYaOKYjoudP/PnwNaUCmtD6ONs8aK+usZrWDR9DNa9dsXVyZNNtrvp8VpVE3nUCFtLJhjKTVPnSuS193GT7dVZtuyaYNfZ2HnV9HUibtO01s37qteqbeYBAOBNNRPQyvhAm122qcprtQZfZaQ+ePUv/8mnvixEf+auRcGvXnK+mX00dsEHcdvUX18HzfTTWmrVzt9Sc4n66aufJynmOF0/vWY1lD2NSN2wt1cbd5vaNZi+LHnlkfVEn5WoCdWn2HT962RJcyqv81it59NQgv7UeUz7mmlmoPKspxbsmF9N18InDCXTkTUuYXZj0pBZO8g0O4ynuSWDq74JwozVzXRi+01cp6qso/C4cWWVmaLLOff43PKxpxSV5daU5FvptaTqea7zOJ6BRYHHOuped3yOCd/j0fu6Hn4hDO4+yfVkXbuhpaMyT9/kRn0jTJ6HTR+DNogaq3VZ+bOs1nle5/yzNj1eK/NMa06Z+16Ds8a5wnsbXfzZT7Sr/4S4muVR+/5lg/Kvs2zpNSFcp9d55bPPtc4JXxXSmqlu3le8Vm14rWzyvAEANKuhJoddudW/aqsPtOiDuSdTp3+oQ6a+ZD8uTW2SZJMp9WGqqz8/rj/wTdMXd77ek/klLy+AoMWDZnqZ65O5zPVNRlWtgVypcou2796k1rVJ+urmSVrYRCJZtX2uSkB9ISm6cepPZX5ybbfdM7V+5rENN5e+DDnlYX59LKDTpE7J2A1zW+4uvuZW3w95nMf2V06VoNU8ekh8cel+ttX4O3JxXnwr68P8yptoOhAXfgFWd6mrL8AmyKW+ZA4n7vabuE75r6MzUsd4wXHjSpeZGq5PEtcH11aPPa3hsvRRlm/l15KK53n3VpVg7HhW38L60yabNdW87ijlx4Tn8Vjhuh425QkkiNesMOfURCZB+jxs+hjs3upmQBPp2XVV/yyrd57XOf+0zY/X6rzSuqXP8qTw3kbvT6L81aD383GDk6hWeWywz3XLX6u+bPk1Qa/T67zy2ucmPvvyeac1R928r3atav5aCQDYDUf66Yb2tfz260/m/9//+DfzH9X86qd/Nv/Jv/BXqt5TMlj31hbjM2kPT1N91+SN18x+qJueZZ1vZlu0i/m7FuurYifTB3/7V5Z1zvNt2rX0AHhbXBMAANtyiPGIBp9yCERsU0r36U87we0bZyY3us552dO3dort7LyBJmVbQV8V78feluWunefv4boDoDlcEwAAaAIBLTRK/8IYPgo5/QS8txZWa3ebRvTkaTTfuRpYRRbja5kU9GH11mY3Qwlymwhin+xjWe7aef5erjsAmsE1AQCwLbpm1qG1FqPJYYNocggAAAAAAF5LFIeIO5SYBDW0AAAAAAAAsFeOvnz5svzll19ED//xf3dm5P3v/mT+o5rf/Pn39hUAAAAAAMD26JpYWTW0DiWmc/Tjx49Vk0Pt/v5e+v2GnuV7YLIOJAAAAAAAgKblBbQOpckhAa2Gff/+XT58+GDfAQAAAAAAbAcBrRgCWpshoAUAAAAAAF7TIcYi6BQeAAAAAAAAe4WAFgAAAAAAAPYKAS0AAAAAAADsFa+A1uzySI4uZ/Ydts3k99lYFvZ9marz74vi/VrI+GwX9zsnXYuxnB2p8XrYybLa1fwEAAAAACCNGlqvaDE+CwMa8eG9BwptIOew46ELGX8aStCfynK5lOXjQFp2CgAAAAAAqI6A1qsIa7+0hyKj+TIMaphhKv1JT46OLoX6b1W1ZPC4i8GhrHTN5TkQ6Zy07ftdtKv5CQAAAABAGgGtV7AYf5Jh0JHR/FEGiWhBV27nI+nIRHo06QQAAAAAAPBSKaCVaDKX0deO6fMomq4HJ0gT9cWVuZ7ZZXrcu7CQh7tApH/lBLOs1kCu+ur/5FtuLa0ov87G/rniWxar+V47z+N9StmhLKbn5oNJeyzdhcfXiu0rKpq+GtK15ML1OOPNcXomiaJwmlUm0mXm78lEvQyGbbOt7HK06coqp7Ky8chLn7zx2hYAAAAAADvAP6A16Un7+WrdVC4YyqfYF3P9Zfj6ZL5uTqdrHqll3C/WWetp6y/X3z4mxsXXvd/Km5u1Tzrq75O8ZO3y7FLaw0D606U8ZkbE0qqURU/eoF8nHeRpD+VU7dMqjdO+Sk5B0M43HwqPUx00asvw1O6zGtRmlb5Ml7fSNfOstc4vTO25b7F8m32bSEcV191DLJ3zZ1Epk4/uCrTubZgO9bIzCsvEtxy9VMnLwrwBAAAAAGB/+Ae0dIfWt9E39q58VN/Qg7uHVW2O7q3zRb11Lhfqi/8kHg3QOiOZO+vJGhdf915bvMiTfVmZDlb0JiaIs8oeD95loQM5VVbciIWMryfmeEpsuntrgkvB8CZdU61KPhQep2FwsR+LPHXNAZgTTEzl20JenvpydXWaOD51kEutNBUQ276KeVlyDgMAAAAAsC8a7EPLbcrVlmFgJx2y1rGc2pfFTuU4XnFH11zrTUytntIgTopnWbxJECYdVIpkBpc2ygdXW3RluHhgzwSj3Lxfacm5jmg9vYRBn8WD3MmJtLsfpR88qz3RZhLGs14/JyvnJQAAAAAA70RDAS3blEtGMo+aPS3nMurYyQctDKIEz2H4I8s8bJOo5ozpjGSqMlD3u5RqKlhox8uitMaaE1yqnQ8FJvrJkmGwrzfJbm4YMc0OgzvRLQwXD3ciF+fSMmVqmyLOvskkr7nhtlXNSwAAAAAA3olmAlq65oquKXLFI//TWnKsq2hNrpMdiUcWY9GtxjomUJLUHjyapmOTntMJeZFdLwtbYy3d/NHWlnIDe0qtfMhi8kY/bTIK9OkhP5hlmGaHgekzSwceT02EKKy5pfdh8fKkq0g1UNPNHidV1MhLAAAAAADeg2YCWhlfrGeXNDmMdG91p+CBDNvOE/P00+naQwk6I/ma01F491bXrspYNs+GZWGedOc8xc93XCbTYXpH1n3id+Wzri7mdlI/u5SebrqXE4irnA9ZTN7odYS1s1ZD4ZP9wuBVcPdJrifrmlgtHX16+iY3d0FjzQ3NwwFigU+dxzpP8tXLS1+NHwsAAAAAADSkoSaHXbm1T9JbNeWSqX2CHEz+LPUT9SbSiwdS2kMR/eS7wicMtmTwqANialmvNne7UBYzuYz20fR/9VUSfdQPHldP4lvlRe/J1JzK7yeraj5kCZt/6s7l1zW05jKSobQLglphs8NAgniNJ9OP1kQmQXPNDVuDrzZoF+aJflLlvKStaL28BAAAAABgvx39+PFjaV8b9/f30u8Tiarr+/fv8uHDB/sOu2QxPpP28DTVZ1beeAAAAAAA9sEhxiIafMohsA9sZ+4rM7nR7THf5ImPAAAAAACgDgJaOBi6eZ5uwpdonnfUkyfd7JP2eQAAAAAA7A0CWjgops+pVf9Z4fCY0yE/AAAAAADYRSL/DzAgcomhV9NGAAAAAElFTkSuQmCC)\n",
        "\n",
        "\n"
      ],
      "metadata": {
        "id": "TJvaB-X0yQQ9"
      }
    }
  ]
}